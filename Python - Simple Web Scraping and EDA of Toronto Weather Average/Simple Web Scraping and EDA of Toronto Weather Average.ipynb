{
 "cells": [
  {
   "cell_type": "markdown",
   "id": "723c1f29",
   "metadata": {},
   "source": [
    "# Simple Web Scraping and EDA of Toronto Wealther Average"
   ]
  },
  {
   "cell_type": "code",
   "execution_count": 1,
   "id": "8d4e6d72",
   "metadata": {},
   "outputs": [],
   "source": [
    "#import libraries\n",
    "from bs4 import BeautifulSoup\n",
    "import requests\n",
    "import pandas as pd\n",
    "import seaborn as sns\n",
    "import matplotlib.pyplot as plt"
   ]
  },
  {
   "cell_type": "markdown",
   "id": "16eff0f2",
   "metadata": {},
   "source": [
    "## Simple Web Scraping"
   ]
  },
  {
   "cell_type": "code",
   "execution_count": 2,
   "id": "467ef063",
   "metadata": {},
   "outputs": [],
   "source": [
    "url = 'https://www.worldweatheronline.com/toronto-weather-averages/ontario/ca.aspx'\n",
    "page = requests.get(url)\n",
    "soup = BeautifulSoup(page.text, 'html.parser')"
   ]
  },
  {
   "cell_type": "code",
   "execution_count": 3,
   "id": "3d149181",
   "metadata": {},
   "outputs": [
    {
     "data": {
      "text/plain": [
       "<table class=\"table table-striped\"><thead class=\"thead-dark\"><tr><th scope=\"col\">Month</th><th scope=\"col\">Day</th><th scope=\"col\">Night</th><th scope=\"col\">Rain Days</th></tr></thead><tbody>\n",
       "<tr><td>January</td><td>-1°c</td><td>-7°c</td><td>9</td></tr>\n",
       "<tr><td>February</td><td>-1°c</td><td>-7°c</td><td>9</td></tr>\n",
       "<tr><td>March</td><td>4°c</td><td>-2°c</td><td>7</td></tr>\n",
       "<tr><td>April</td><td>9°c</td><td>3°c</td><td>9</td></tr>\n",
       "<tr><td>May</td><td>16°c</td><td>9°c</td><td>8</td></tr>\n",
       "<tr><td>June</td><td>21°c</td><td>14°c</td><td>9</td></tr>\n",
       "<tr><td>July</td><td>25°c</td><td>18°c</td><td>9</td></tr>\n",
       "<tr><td>August</td><td>25°c</td><td>19°c</td><td>8</td></tr>\n",
       "<tr><td>September</td><td>22°c</td><td>15°c</td><td>6</td></tr>\n",
       "<tr><td>October</td><td>15°c</td><td>9°c</td><td>9</td></tr>\n",
       "<tr><td>November</td><td>8°c</td><td>3°c</td><td>6</td></tr>\n",
       "<tr><td>December</td><td>2°c</td><td>-2°c</td><td>9</td></tr>\n",
       "</tbody></table>"
      ]
     },
     "execution_count": 3,
     "metadata": {},
     "output_type": "execute_result"
    }
   ],
   "source": [
    "#select the first table element\n",
    "soup.find_all('table')[0]"
   ]
  },
  {
   "cell_type": "code",
   "execution_count": 4,
   "id": "4638385c",
   "metadata": {},
   "outputs": [],
   "source": [
    "table=soup.find_all('table')[0]"
   ]
  },
  {
   "cell_type": "code",
   "execution_count": 5,
   "id": "ce70fb49",
   "metadata": {},
   "outputs": [],
   "source": [
    "#extract the data through for loop and save the data in the list\n",
    "data = []\n",
    "for row in table.find_all('tr'):\n",
    "    cells = row.find_all(['th', 'td'])\n",
    "    row_data = [cell.get_text(strip=True) for cell in cells]\n",
    "    data.append(row_data)"
   ]
  },
  {
   "cell_type": "markdown",
   "id": "f63d3839",
   "metadata": {},
   "source": [
    "## Create DataFrame"
   ]
  },
  {
   "cell_type": "code",
   "execution_count": 6,
   "id": "975c16a1",
   "metadata": {},
   "outputs": [
    {
     "data": {
      "text/html": [
       "<div>\n",
       "<style scoped>\n",
       "    .dataframe tbody tr th:only-of-type {\n",
       "        vertical-align: middle;\n",
       "    }\n",
       "\n",
       "    .dataframe tbody tr th {\n",
       "        vertical-align: top;\n",
       "    }\n",
       "\n",
       "    .dataframe thead th {\n",
       "        text-align: right;\n",
       "    }\n",
       "</style>\n",
       "<table border=\"1\" class=\"dataframe\">\n",
       "  <thead>\n",
       "    <tr style=\"text-align: right;\">\n",
       "      <th></th>\n",
       "      <th>Month</th>\n",
       "      <th>Day</th>\n",
       "      <th>Night</th>\n",
       "      <th>Rain Days</th>\n",
       "    </tr>\n",
       "  </thead>\n",
       "  <tbody>\n",
       "    <tr>\n",
       "      <th>0</th>\n",
       "      <td>January</td>\n",
       "      <td>-1°c</td>\n",
       "      <td>-7°c</td>\n",
       "      <td>9</td>\n",
       "    </tr>\n",
       "    <tr>\n",
       "      <th>1</th>\n",
       "      <td>February</td>\n",
       "      <td>-1°c</td>\n",
       "      <td>-7°c</td>\n",
       "      <td>9</td>\n",
       "    </tr>\n",
       "    <tr>\n",
       "      <th>2</th>\n",
       "      <td>March</td>\n",
       "      <td>4°c</td>\n",
       "      <td>-2°c</td>\n",
       "      <td>7</td>\n",
       "    </tr>\n",
       "    <tr>\n",
       "      <th>3</th>\n",
       "      <td>April</td>\n",
       "      <td>9°c</td>\n",
       "      <td>3°c</td>\n",
       "      <td>9</td>\n",
       "    </tr>\n",
       "    <tr>\n",
       "      <th>4</th>\n",
       "      <td>May</td>\n",
       "      <td>16°c</td>\n",
       "      <td>9°c</td>\n",
       "      <td>8</td>\n",
       "    </tr>\n",
       "    <tr>\n",
       "      <th>5</th>\n",
       "      <td>June</td>\n",
       "      <td>21°c</td>\n",
       "      <td>14°c</td>\n",
       "      <td>9</td>\n",
       "    </tr>\n",
       "    <tr>\n",
       "      <th>6</th>\n",
       "      <td>July</td>\n",
       "      <td>25°c</td>\n",
       "      <td>18°c</td>\n",
       "      <td>9</td>\n",
       "    </tr>\n",
       "    <tr>\n",
       "      <th>7</th>\n",
       "      <td>August</td>\n",
       "      <td>25°c</td>\n",
       "      <td>19°c</td>\n",
       "      <td>8</td>\n",
       "    </tr>\n",
       "    <tr>\n",
       "      <th>8</th>\n",
       "      <td>September</td>\n",
       "      <td>22°c</td>\n",
       "      <td>15°c</td>\n",
       "      <td>6</td>\n",
       "    </tr>\n",
       "    <tr>\n",
       "      <th>9</th>\n",
       "      <td>October</td>\n",
       "      <td>15°c</td>\n",
       "      <td>9°c</td>\n",
       "      <td>9</td>\n",
       "    </tr>\n",
       "    <tr>\n",
       "      <th>10</th>\n",
       "      <td>November</td>\n",
       "      <td>8°c</td>\n",
       "      <td>3°c</td>\n",
       "      <td>6</td>\n",
       "    </tr>\n",
       "    <tr>\n",
       "      <th>11</th>\n",
       "      <td>December</td>\n",
       "      <td>2°c</td>\n",
       "      <td>-2°c</td>\n",
       "      <td>9</td>\n",
       "    </tr>\n",
       "  </tbody>\n",
       "</table>\n",
       "</div>"
      ],
      "text/plain": [
       "        Month   Day Night Rain Days\n",
       "0     January  -1°c  -7°c         9\n",
       "1    February  -1°c  -7°c         9\n",
       "2       March   4°c  -2°c         7\n",
       "3       April   9°c   3°c         9\n",
       "4         May  16°c   9°c         8\n",
       "5        June  21°c  14°c         9\n",
       "6        July  25°c  18°c         9\n",
       "7      August  25°c  19°c         8\n",
       "8   September  22°c  15°c         6\n",
       "9     October  15°c   9°c         9\n",
       "10   November   8°c   3°c         6\n",
       "11   December   2°c  -2°c         9"
      ]
     },
     "execution_count": 6,
     "metadata": {},
     "output_type": "execute_result"
    }
   ],
   "source": [
    "df = pd.DataFrame(data[1:], columns=data[0])\n",
    "df"
   ]
  },
  {
   "cell_type": "code",
   "execution_count": 7,
   "id": "37e2f86e",
   "metadata": {},
   "outputs": [
    {
     "name": "stdout",
     "output_type": "stream",
     "text": [
      "<class 'pandas.core.frame.DataFrame'>\n",
      "RangeIndex: 12 entries, 0 to 11\n",
      "Data columns (total 4 columns):\n",
      " #   Column     Non-Null Count  Dtype \n",
      "---  ------     --------------  ----- \n",
      " 0   Month      12 non-null     object\n",
      " 1   Day        12 non-null     object\n",
      " 2   Night      12 non-null     object\n",
      " 3   Rain Days  12 non-null     object\n",
      "dtypes: object(4)\n",
      "memory usage: 512.0+ bytes\n"
     ]
    }
   ],
   "source": [
    "df.info()"
   ]
  },
  {
   "cell_type": "markdown",
   "id": "e2429af3",
   "metadata": {},
   "source": [
    "## Data Cleaning"
   ]
  },
  {
   "cell_type": "code",
   "execution_count": 8,
   "id": "2ebcc45c",
   "metadata": {},
   "outputs": [],
   "source": [
    "df.rename(columns={\"Day\":\"Day(°c)\", \"Night\":\"Night(°c)\"},inplace=True)\n",
    "df['Day(°c)'] = df['Day(°c)'].str.replace('°c', '').astype(int)\n",
    "df['Night(°c)'] = df['Night(°c)'].str.replace('°c', '').astype(int)\n",
    "df['Rain Days'] = df['Rain Days'].astype(int)"
   ]
  },
  {
   "cell_type": "code",
   "execution_count": 9,
   "id": "a4596035",
   "metadata": {},
   "outputs": [
    {
     "data": {
      "text/html": [
       "<div>\n",
       "<style scoped>\n",
       "    .dataframe tbody tr th:only-of-type {\n",
       "        vertical-align: middle;\n",
       "    }\n",
       "\n",
       "    .dataframe tbody tr th {\n",
       "        vertical-align: top;\n",
       "    }\n",
       "\n",
       "    .dataframe thead th {\n",
       "        text-align: right;\n",
       "    }\n",
       "</style>\n",
       "<table border=\"1\" class=\"dataframe\">\n",
       "  <thead>\n",
       "    <tr style=\"text-align: right;\">\n",
       "      <th></th>\n",
       "      <th>Month</th>\n",
       "      <th>Day(°c)</th>\n",
       "      <th>Night(°c)</th>\n",
       "      <th>Rain Days</th>\n",
       "    </tr>\n",
       "  </thead>\n",
       "  <tbody>\n",
       "    <tr>\n",
       "      <th>0</th>\n",
       "      <td>January</td>\n",
       "      <td>-1</td>\n",
       "      <td>-7</td>\n",
       "      <td>9</td>\n",
       "    </tr>\n",
       "    <tr>\n",
       "      <th>1</th>\n",
       "      <td>February</td>\n",
       "      <td>-1</td>\n",
       "      <td>-7</td>\n",
       "      <td>9</td>\n",
       "    </tr>\n",
       "    <tr>\n",
       "      <th>2</th>\n",
       "      <td>March</td>\n",
       "      <td>4</td>\n",
       "      <td>-2</td>\n",
       "      <td>7</td>\n",
       "    </tr>\n",
       "    <tr>\n",
       "      <th>3</th>\n",
       "      <td>April</td>\n",
       "      <td>9</td>\n",
       "      <td>3</td>\n",
       "      <td>9</td>\n",
       "    </tr>\n",
       "    <tr>\n",
       "      <th>4</th>\n",
       "      <td>May</td>\n",
       "      <td>16</td>\n",
       "      <td>9</td>\n",
       "      <td>8</td>\n",
       "    </tr>\n",
       "    <tr>\n",
       "      <th>5</th>\n",
       "      <td>June</td>\n",
       "      <td>21</td>\n",
       "      <td>14</td>\n",
       "      <td>9</td>\n",
       "    </tr>\n",
       "    <tr>\n",
       "      <th>6</th>\n",
       "      <td>July</td>\n",
       "      <td>25</td>\n",
       "      <td>18</td>\n",
       "      <td>9</td>\n",
       "    </tr>\n",
       "    <tr>\n",
       "      <th>7</th>\n",
       "      <td>August</td>\n",
       "      <td>25</td>\n",
       "      <td>19</td>\n",
       "      <td>8</td>\n",
       "    </tr>\n",
       "    <tr>\n",
       "      <th>8</th>\n",
       "      <td>September</td>\n",
       "      <td>22</td>\n",
       "      <td>15</td>\n",
       "      <td>6</td>\n",
       "    </tr>\n",
       "    <tr>\n",
       "      <th>9</th>\n",
       "      <td>October</td>\n",
       "      <td>15</td>\n",
       "      <td>9</td>\n",
       "      <td>9</td>\n",
       "    </tr>\n",
       "    <tr>\n",
       "      <th>10</th>\n",
       "      <td>November</td>\n",
       "      <td>8</td>\n",
       "      <td>3</td>\n",
       "      <td>6</td>\n",
       "    </tr>\n",
       "    <tr>\n",
       "      <th>11</th>\n",
       "      <td>December</td>\n",
       "      <td>2</td>\n",
       "      <td>-2</td>\n",
       "      <td>9</td>\n",
       "    </tr>\n",
       "  </tbody>\n",
       "</table>\n",
       "</div>"
      ],
      "text/plain": [
       "        Month  Day(°c)  Night(°c)  Rain Days\n",
       "0     January       -1         -7          9\n",
       "1    February       -1         -7          9\n",
       "2       March        4         -2          7\n",
       "3       April        9          3          9\n",
       "4         May       16          9          8\n",
       "5        June       21         14          9\n",
       "6        July       25         18          9\n",
       "7      August       25         19          8\n",
       "8   September       22         15          6\n",
       "9     October       15          9          9\n",
       "10   November        8          3          6\n",
       "11   December        2         -2          9"
      ]
     },
     "execution_count": 9,
     "metadata": {},
     "output_type": "execute_result"
    }
   ],
   "source": [
    "df"
   ]
  },
  {
   "cell_type": "code",
   "execution_count": 10,
   "id": "e3e932bc",
   "metadata": {},
   "outputs": [
    {
     "name": "stdout",
     "output_type": "stream",
     "text": [
      "<class 'pandas.core.frame.DataFrame'>\n",
      "RangeIndex: 12 entries, 0 to 11\n",
      "Data columns (total 4 columns):\n",
      " #   Column     Non-Null Count  Dtype \n",
      "---  ------     --------------  ----- \n",
      " 0   Month      12 non-null     object\n",
      " 1   Day(°c)    12 non-null     int32 \n",
      " 2   Night(°c)  12 non-null     int32 \n",
      " 3   Rain Days  12 non-null     int32 \n",
      "dtypes: int32(3), object(1)\n",
      "memory usage: 368.0+ bytes\n"
     ]
    }
   ],
   "source": [
    "df.info()"
   ]
  },
  {
   "cell_type": "markdown",
   "id": "68abe62a",
   "metadata": {},
   "source": [
    "## Exploratory Data Analysis"
   ]
  },
  {
   "cell_type": "code",
   "execution_count": 11,
   "id": "da649273",
   "metadata": {},
   "outputs": [
    {
     "data": {
      "text/html": [
       "<div>\n",
       "<style scoped>\n",
       "    .dataframe tbody tr th:only-of-type {\n",
       "        vertical-align: middle;\n",
       "    }\n",
       "\n",
       "    .dataframe tbody tr th {\n",
       "        vertical-align: top;\n",
       "    }\n",
       "\n",
       "    .dataframe thead th {\n",
       "        text-align: right;\n",
       "    }\n",
       "</style>\n",
       "<table border=\"1\" class=\"dataframe\">\n",
       "  <thead>\n",
       "    <tr style=\"text-align: right;\">\n",
       "      <th></th>\n",
       "      <th>Day(°c)</th>\n",
       "      <th>Night(°c)</th>\n",
       "      <th>Rain Days</th>\n",
       "    </tr>\n",
       "  </thead>\n",
       "  <tbody>\n",
       "    <tr>\n",
       "      <th>count</th>\n",
       "      <td>12.000000</td>\n",
       "      <td>12.000000</td>\n",
       "      <td>12.000000</td>\n",
       "    </tr>\n",
       "    <tr>\n",
       "      <th>mean</th>\n",
       "      <td>12.083333</td>\n",
       "      <td>6.000000</td>\n",
       "      <td>8.166667</td>\n",
       "    </tr>\n",
       "    <tr>\n",
       "      <th>std</th>\n",
       "      <td>9.866917</td>\n",
       "      <td>9.341987</td>\n",
       "      <td>1.193416</td>\n",
       "    </tr>\n",
       "    <tr>\n",
       "      <th>min</th>\n",
       "      <td>-1.000000</td>\n",
       "      <td>-7.000000</td>\n",
       "      <td>6.000000</td>\n",
       "    </tr>\n",
       "    <tr>\n",
       "      <th>25%</th>\n",
       "      <td>3.500000</td>\n",
       "      <td>-2.000000</td>\n",
       "      <td>7.750000</td>\n",
       "    </tr>\n",
       "    <tr>\n",
       "      <th>50%</th>\n",
       "      <td>12.000000</td>\n",
       "      <td>6.000000</td>\n",
       "      <td>9.000000</td>\n",
       "    </tr>\n",
       "    <tr>\n",
       "      <th>75%</th>\n",
       "      <td>21.250000</td>\n",
       "      <td>14.250000</td>\n",
       "      <td>9.000000</td>\n",
       "    </tr>\n",
       "    <tr>\n",
       "      <th>max</th>\n",
       "      <td>25.000000</td>\n",
       "      <td>19.000000</td>\n",
       "      <td>9.000000</td>\n",
       "    </tr>\n",
       "  </tbody>\n",
       "</table>\n",
       "</div>"
      ],
      "text/plain": [
       "         Day(°c)  Night(°c)  Rain Days\n",
       "count  12.000000  12.000000  12.000000\n",
       "mean   12.083333   6.000000   8.166667\n",
       "std     9.866917   9.341987   1.193416\n",
       "min    -1.000000  -7.000000   6.000000\n",
       "25%     3.500000  -2.000000   7.750000\n",
       "50%    12.000000   6.000000   9.000000\n",
       "75%    21.250000  14.250000   9.000000\n",
       "max    25.000000  19.000000   9.000000"
      ]
     },
     "execution_count": 11,
     "metadata": {},
     "output_type": "execute_result"
    }
   ],
   "source": [
    "df.describe()"
   ]
  },
  {
   "cell_type": "code",
   "execution_count": 12,
   "id": "2f0d8717",
   "metadata": {},
   "outputs": [
    {
     "data": {
      "image/png": "[encoded data removed]",
      "text/plain": [
       "<Figure size 576x432 with 2 Axes>"
      ]
     },
     "metadata": {
      "needs_background": "light"
     },
     "output_type": "display_data"
    }
   ],
   "source": [
    "#Heatmap to visualize correlations between temperature and rainy days\n",
    "correlation_matrix = df[['Day(°c)', 'Night(°c)', 'Rain Days']].corr()\n",
    "\n",
    "plt.figure(figsize=(8, 6))\n",
    "sns.heatmap(correlation_matrix, annot=True, cmap='coolwarm', linewidths=0.5)\n",
    "plt.title('Correlation Heatmap')\n",
    "plt.show()"
   ]
  },
  {
   "cell_type": "markdown",
   "id": "5e3d3241",
   "metadata": {},
   "source": [
    "The correlation matrix indicates that there is a strong positive correlation between daytime and nighttime temperatures (Day(°c) and Night(°c)) in Toronto, while the number of rainy days (Rain Days) is negatively correlated with both temperature variables, suggesting that as temperatures increase, the number of rainy days tends to decrease."
   ]
  },
  {
   "cell_type": "code",
   "execution_count": 13,
   "id": "0ac3f7e6",
   "metadata": {},
   "outputs": [
    {
     "data": {
      "image/png": "[encoded data removed]",
      "text/plain": [
       "<Figure size 720x432 with 1 Axes>"
      ]
     },
     "metadata": {
      "needs_background": "light"
     },
     "output_type": "display_data"
    }
   ],
   "source": [
    "#Boxplot to show temperature distribution (Day vs. Night)\n",
    "plt.figure(figsize=(10, 6))\n",
    "sns.boxplot(data=df[['Day(°c)', 'Night(°c)']], orient='h', palette='Set2')\n",
    "plt.title('Temperature Distribution in Toronto (Day vs. Night)')\n",
    "plt.xlabel('Temperature (°C)')\n",
    "plt.yticks([0, 1], ['Daytime', 'Nighttime'])\n",
    "plt.grid(axis='x')\n",
    "plt.show()"
   ]
  },
  {
   "cell_type": "code",
   "execution_count": 14,
   "id": "ccd8b73d",
   "metadata": {},
   "outputs": [
    {
     "data": {
      "image/png": "[encoded data removed]",
      "text/plain": [
       "<Figure size 720x432 with 1 Axes>"
      ]
     },
     "metadata": {
      "needs_background": "light"
     },
     "output_type": "display_data"
    }
   ],
   "source": [
    "#Line chart to display yearly temperature patterns\n",
    "plt.figure(figsize=(10, 6))\n",
    "plt.plot(df['Month'], df['Day(°c)'], label='Daytime Temperature', marker='o', linestyle='-', color='b')\n",
    "plt.plot(df['Month'], df['Night(°c)'], label='Nighttime Temperature', marker='o', linestyle='-', color='r')\n",
    "\n",
    "plt.title('Monthly Daytime and Nighttime Temperatures in Toronto')\n",
    "plt.xlabel('Month')\n",
    "plt.ylabel('Temperature (°C)')\n",
    "plt.legend()\n",
    "plt.xticks(rotation='vertical')\n",
    "plt.grid(True)\n",
    "plt.show()"
   ]
  },
  {
   "cell_type": "code",
   "execution_count": 15,
   "id": "d96f17ea",
   "metadata": {},
   "outputs": [
    {
     "data": {
      "image/png": "[encoded data removed]",
      "text/plain": [
       "<Figure size 720x432 with 1 Axes>"
      ]
     },
     "metadata": {
      "needs_background": "light"
     },
     "output_type": "display_data"
    }
   ],
   "source": [
    "#Bar chart to show annual rainy days\n",
    "plt.figure(figsize=(10, 6))\n",
    "plt.bar(df['Month'], df['Rain Days'], color='g')\n",
    "\n",
    "plt.title('Monthly Rain Days in Toronto')\n",
    "plt.xlabel('Month')\n",
    "plt.ylabel('Rain Days')\n",
    "plt.xticks(rotation='vertical')\n",
    "plt.grid(axis='y')\n",
    "plt.show()"
   ]
  },
  {
   "cell_type": "markdown",
   "id": "dd3c7a2e",
   "metadata": {},
   "source": [
    "## Data Export"
   ]
  },
  {
   "cell_type": "code",
   "execution_count": 16,
   "id": "9194bc0d",
   "metadata": {},
   "outputs": [],
   "source": [
    "df.to_csv('toronto_weather_averages.csv', index=False)"
   ]
  },
  {
   "cell_type": "markdown",
   "id": "783536ec",
   "metadata": {},
   "source": [
    "## Conclusion"
   ]
  },
  {
   "cell_type": "markdown",
   "id": "c3b6fe87",
   "metadata": {},
   "source": [
    "This analysis explores the historical weather data for Toronto, including average daytime and nighttime temperatures, as well as the number of rainy days for each month. The analysis includes data scraping, data cleaning, data visualization, and statistical summaries. Key findings and visualizations are presented to help understand Toronto's weather patterns throughout the year."
   ]
  },
  {
   "cell_type": "code",
   "execution_count": null,
   "id": "9cb0b824",
   "metadata": {},
   "outputs": [],
   "source": []
  }
 ],
 "metadata": {
  "kernelspec": {
   "display_name": "Python 3 (ipykernel)",
   "language": "python",
   "name": "python3"
  },
  "language_info": {
   "codemirror_mode": {
    "name": "ipython",
    "version": 3
   },
   "file_extension": ".py",
   "mimetype": "text/x-python",
   "name": "python",
   "nbconvert_exporter": "python",
   "pygments_lexer": "ipython3",
   "version": "3.9.12"
  }
 },
 "nbformat": 4,
 "nbformat_minor": 5
}
